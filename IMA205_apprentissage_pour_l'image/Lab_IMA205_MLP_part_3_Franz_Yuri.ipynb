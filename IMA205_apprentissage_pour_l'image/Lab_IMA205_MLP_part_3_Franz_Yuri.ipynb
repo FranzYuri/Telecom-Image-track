{
  "cells": [
    {
      "cell_type": "markdown",
      "metadata": {
        "id": "RIjFqlgERHAq"
      },
      "source": [
        "# IMA 205 - TP ANN (part B)\n",
        "\n",
        "## Coding a Multi-Layer Perceptron with Pytorch"
      ]
    },
    {
      "cell_type": "markdown",
      "metadata": {
        "id": "zwmOS19zRHAs"
      },
      "source": [
        "Original Author : Alasdair Newson (https://sites.google.com/site/alasdairnewson/)\n",
        "\n",
        "Adapted by Loic Le Folgoc. If you have questions, contact me at loic.lefolgoc@telecom-paris.fr"
      ]
    },
    {
      "cell_type": "markdown",
      "metadata": {
        "id": "oG_lwX5GRHAs"
      },
      "source": [
        "In this part of the lab, we will be looking at the Multi-Layer Perceptron (MLP) using Pytorch (https://pytorch.org/)\n",
        "\n",
        "We will be using the following packages :\n",
        "   \n",
        "   - Scikit-learn (http://scikit-learn.org/)\n",
        "   - Pytorch (https://pytorch.org/)\n",
        "\n",
        "### Your task:\n",
        "You need to add the missing parts in the code (generally marked by `...`)\n",
        "\n",
        "The following commands will make sure that you have all the necessary packages"
      ]
    },
    {
      "cell_type": "code",
      "execution_count": null,
      "metadata": {
        "colab": {
          "base_uri": "https://localhost:8080/"
        },
        "id": "sCGFw05kRHAs",
        "outputId": "9ebf6adc-a9b2-4574-a77f-4cad75622e0f"
      },
      "outputs": [
        {
          "output_type": "stream",
          "name": "stdout",
          "text": [
            "2.6.0+cu124\n"
          ]
        }
      ],
      "source": [
        "%matplotlib inline\n",
        "\n",
        "import numpy as np\n",
        "import matplotlib.pyplot as plt\n",
        "import os\n",
        "import pdb\n",
        "\n",
        "import sklearn  # scikit-learn\n",
        "import torch\n",
        "\n",
        "# import pytorch modules\n",
        "import torch.nn as nn\n",
        "import torch.optim as optim\n",
        "print(torch.__version__)\n",
        "\n",
        "from torch.utils.data import TensorDataset, DataLoader\n",
        "import torch.nn.functional as F"
      ]
    },
    {
      "cell_type": "code",
      "source": [
        "from tqdm import tqdm"
      ],
      "metadata": {
        "id": "IdXSgk0jcmmB"
      },
      "execution_count": null,
      "outputs": []
    },
    {
      "cell_type": "markdown",
      "metadata": {
        "id": "dxgAcMrMRHAt"
      },
      "source": [
        "# 1 - Multi-Layer Perceptron with Pytorch\n",
        "\n",
        "We will replay the example in the first part of the lab, but implemented fully in Pytorch."
      ]
    },
    {
      "cell_type": "markdown",
      "metadata": {
        "id": "OjK-B5mkRHAt"
      },
      "source": [
        "## Introduction to Pytorch"
      ]
    },
    {
      "cell_type": "markdown",
      "metadata": {
        "id": "gzVmdesCRHAu"
      },
      "source": [
        "Pytorch is a library written by Meta which allows easy implementation of deep neural networks. In particular, it provides automatic differentiation so that the user does not have to determine gradients manually, which can be extremely long even for simple networks, as you have seen in the previous part.\n",
        "\n",
        "This, in turn allows a user to apply techniques such as stochastic gradient descent for training purposes. The differentiation graph is created symbolically when the network is created. Since a neural network is simply a cascade (or concatenation) of simple functions, the network in Pytorch is simply a sequence of functions which are applied to one or several variables. The output of the final function is the output of the network.\n",
        "\n",
        "For instance, if the input were ```x``` and the network consisted of two functions ```a``` and ```b```, you could create the network simply by writing :\n",
        "\n",
        "```y = b(a(x))```\n",
        "\n",
        "However, it is clear that these functions and variables must be of some special type, so that the computer can figure out how to carry out the automatic differentiation for training. Pytorch provides these functions and variables, which must be created with the Pytorch package.\n"
      ]
    },
    {
      "cell_type": "markdown",
      "source": [
        "## Creating a network\n",
        "\n",
        "In Pytorch, to create a network, there are two (main) methods :"
      ],
      "metadata": {
        "id": "KP9_op3v9qOb"
      }
    },
    {
      "cell_type": "markdown",
      "source": [
        "### Creating a model using the Sequential API\n",
        "\n",
        "Pytorch has a simple way of adding layers to create a neural network. This approach is generally convenient for simple models, with not many tweaks. For this, you have to use the following function :\n",
        "- ```nn.Sequential()```\n",
        "\n",
        "After this, you can add layers with the function.\n",
        "\n",
        "- ```model.add_module('module_name',your_module)```\n",
        "\n",
        "You can then use any type of ```nn.Module``` (for example ```nn.Dense``` or ```nn.ReLU```) functions to specify different layer types. __Note that adding a ```nn.Module``` to your ```nn.Sequential``` requires you to specify a name for your module. You have to specify different names for each layer. Otherwise, your layers will be overwritten.__ So, for example, if you want a network with one layer as dense layer with a relu activation, with n_out output neurons, and n_in neurons :\n",
        "\n",
        "- `model = nn.Sequential()`\n",
        "- `model.add_module('linear1',nn.Linear(n_in,n_out))`\n",
        "- `model.add_module('relu1',nn.ReLU())`\n",
        "\n",
        "<br>Otherwise, you can also write the following code that is equivalent to the above using arguments to `nn.Sequential`: `nn.Sequential(nn.Linear(n_in,n_out), nn.ReLU())`."
      ],
      "metadata": {
        "id": "8Cek-TAF_EUT"
      }
    },
    {
      "cell_type": "markdown",
      "source": [
        "### Creating a model using the standard API\n",
        "\n",
        "Otherwise, another approach (allowing more flexibility) to creating the model is to create a subclass of ```nn.Module```. Then, you can define all the necessary layers and hyper-parameters in your ```init``` function and make the forward process you want in the ```forward``` function. So, for the same example, we would have :\n",
        "\n",
        "- class Model(nn.Module):\n",
        "  - def __init__(self):\n",
        "      - super().__init__()\n",
        "      - self.l1 = nn.Linear(n_in,n_out)\n",
        "      - self.r1 = nn.ReLU()\n",
        "\n",
        "  - def forward(self, x):\n",
        "       - x = self.l1(x)\n",
        "       - x = self.r1(x)\n",
        "       - return x\n",
        "\n",
        "We will implement both the Sequential and standard API.\n",
        "\n",
        " __Note:__ You can also combine the two approaches by defining some ```nn.Sequential``` in your class ```init``` and applying them in the ```forward``` function."
      ],
      "metadata": {
        "id": "GrZq3EVL-w9w"
      }
    },
    {
      "cell_type": "markdown",
      "source": [
        "## Training and testing a network\n",
        "\n",
        "Pytorch allows the easy training of a network with the following objects and functions :\n",
        "\n",
        "- Optimizers: Optimizers (for example `optim.Adam()` or `optim.SGD()`) needs you to give them ```model.parameters``` as argument to let them know which weights have to be optimized. For example: `my_optimizer = optim.Adam(model.parameters())`\n",
        "\n",
        "- Losses: They can be predefined functions from Pytorch library or arbitrary functions defined by yourself, as long as they are differentiable. For example: `loss_function = nn.BCELoss()` corresponds to the binary cross entropy loss, useful for binary classification.\n",
        "\n",
        "- `outputs = model(...)` : carry out a simple forward pass on the model and returns the outputs\n",
        "\n",
        "- `loss_value = loss_function(outputs,ground_truth)` : computes the loss between outputs and ground_truth\n",
        "\n",
        "- `optimizer.zero_grad()` : Sets all gradients stored in the previous steps to zero. If you don't call this function before a gradient computation, your gradients will added (cumulatively) to the previous ones.\n",
        "\n",
        "- `loss_value.backward()` : carry out the backpropagation of gradients, populating the `node.grad` fields\n",
        "\n",
        "- `optimizer.step()`: apply the parameter update to the trainable parameters controlled by the optimizer, according to the specific class of `optimizer`"
      ],
      "metadata": {
        "id": "eRmohPUI_heM"
      }
    },
    {
      "cell_type": "markdown",
      "metadata": {
        "id": "jdGVzE6NRHAy"
      },
      "source": [
        "# Loading and formatting the data\n",
        "\n",
        "First, we load the data from sklearn. We create train and test splits."
      ]
    },
    {
      "cell_type": "code",
      "execution_count": null,
      "metadata": {
        "colab": {
          "base_uri": "https://localhost:8080/",
          "height": 430
        },
        "id": "EfiJwuLmRHAy",
        "outputId": "0d306a9e-c448-4c2a-e9a4-73c1e2ac3743"
      },
      "outputs": [
        {
          "output_type": "display_data",
          "data": {
            "text/plain": [
              "<Figure size 640x480 with 1 Axes>"
            ],
            "image/png": "[encoded data removed]"
          },
          "metadata": {}
        }
      ],
      "source": [
        "from sklearn import datasets\n",
        "from sklearn.preprocessing import MinMaxScaler\n",
        "from sklearn.model_selection import train_test_split\n",
        "\n",
        "# Create data\n",
        "X, Y = datasets.make_circles(n_samples=1000, noise=0.05, factor=0.5)\n",
        "# X, Y = datasets.make_moons(n_samples=1000, random_state=42)  # try with 2 moons\n",
        "\n",
        "\n",
        "# Normalize the data. If we were doing things by the textbook, we would need to fit the\n",
        "# MinMaxScaler on the training data X_train only, then apply it to both training and\n",
        "# test data X_train and X_test:\n",
        "X = MinMaxScaler().fit_transform(X)\n",
        "\n",
        "# Show data in plot\n",
        "plt.plot(X[Y == 1, 0], X[Y == 1, 1], 'ro')\n",
        "plt.plot(X[Y == 0, 0], X[Y == 0, 1], 'bo')\n",
        "plt.grid('on')"
      ]
    },
    {
      "cell_type": "code",
      "source": [
        "# We split up the data into training and test data, using a function from\n",
        "# Scikit-learn :\n",
        "X_train, X_test, Y_train, Y_test = train_test_split(X, Y, test_size=0.15)\n",
        "print('Training set shape: {}'.format(X_train.shape))\n",
        "print('Test set shape: {}'.format(X_test.shape))"
      ],
      "metadata": {
        "colab": {
          "base_uri": "https://localhost:8080/"
        },
        "id": "UiWKKa0yFZWK",
        "outputId": "091c3c53-a404-438d-a00d-5268600a5a24"
      },
      "execution_count": null,
      "outputs": [
        {
          "output_type": "stream",
          "name": "stdout",
          "text": [
            "Training set shape: (850, 2)\n",
            "Test set shape: (150, 2)\n"
          ]
        }
      ]
    },
    {
      "cell_type": "markdown",
      "source": [
        "Finally, we need to create `torch.utils.data.Dataset` objects from these numpy datasets. These datasets are Pytorch objects, which typically implement a `get_item(i)` method which manages the retrieval of the i-th item in the dataset, and return it as a torch `Tensor` object (or tuple thereof).\n",
        "\n",
        "A useful subclass for us is `TensorDataset`, which does the magic under the hood for us for this simple case where we have data points and labels already available:"
      ],
      "metadata": {
        "id": "TB8TL_RkGT0W"
      }
    },
    {
      "cell_type": "code",
      "source": [
        "training_dataset  = TensorDataset(torch.tensor(X_train).float(),torch.unsqueeze(torch.tensor(Y_train),-1).float()) # Creates a pytorch Dataset object\n",
        "test_dataset  = TensorDataset(torch.tensor(X_test).float(),torch.unsqueeze(torch.tensor(Y_test),-1).float()) # Creates a pytorch Dataset object"
      ],
      "metadata": {
        "id": "rWlztVTpHQIg"
      },
      "execution_count": null,
      "outputs": []
    },
    {
      "cell_type": "markdown",
      "source": [
        "# Device"
      ],
      "metadata": {
        "id": "xL49V1-ZcEmv"
      }
    },
    {
      "cell_type": "markdown",
      "source": [
        "We will use the GPU if it is available on your machine, otherwise the CPU. We do so by putting the model and data on the active device with `.to(device)`. GPU training is 6-10x faster here."
      ],
      "metadata": {
        "id": "alSxFclWHtqQ"
      }
    },
    {
      "cell_type": "code",
      "source": [
        "device = torch.device(\"cuda:0\" if torch.cuda.is_available() else \"cpu\")\n",
        "print(device)"
      ],
      "metadata": {
        "colab": {
          "base_uri": "https://localhost:8080/"
        },
        "id": "uQBUStSFHxf0",
        "outputId": "e6d13729-2f82-478d-b42a-3f42f66acba4"
      },
      "execution_count": null,
      "outputs": [
        {
          "output_type": "stream",
          "name": "stdout",
          "text": [
            "cpu\n"
          ]
        }
      ]
    },
    {
      "cell_type": "markdown",
      "source": [
        "# Creating the MLP with Pytorch : Architecture\n",
        "\n",
        "We are now going to create an MLP with pytorch. We will start with an MLP with one hidden layer, similar to part 1 of the lab. The network should consist of the following operations, in the following order :\n",
        "\n",
        "- Fully connected layer (with biases), mapping the input data (2D) to `n_hidden` neurons, using `nn.Linear(...)`\n",
        "- ReLU activation, using `nn.ReLu()`\n",
        "- Fully connected layer (with biases), mapping the hidden layer to the output layer with 1 neuron\n",
        "- Sigmoid output activation, using `nn.Sigmoid()`\n",
        "\n",
        "We are going to be solving a binary classification problem, so the output of the network should be a scalar between 0 and 1 (thus the last Sigmoid activation function)."
      ],
      "metadata": {
        "id": "5Nzll2FYIAAV"
      }
    },
    {
      "cell_type": "code",
      "source": [
        "# Parameters:\n",
        "n_input = 2\n",
        "n_hidden = 50\n",
        "n_output = 1"
      ],
      "metadata": {
        "id": "-3gutpVjI6u8"
      },
      "execution_count": null,
      "outputs": []
    },
    {
      "cell_type": "code",
      "source": [
        "# TO COMPLETE:\n",
        "\n",
        "class MLP(nn.Module):\n",
        "\n",
        "  def __init__(self, n_input, n_hidden, n_output):\n",
        "    super().__init__()\n",
        "\n",
        "    # We can only define the linear/dense layers here, and call the functional versions\n",
        "    # of ReLu and Sigmoid, F.relu() and torch.sigmoid(), directly in the forward\n",
        "    self.linear1 = nn.Linear(n_input, n_hidden)\n",
        "    self.linear2 = nn.Linear(n_hidden, n_output)\n",
        "\n",
        "  def forward(self, x):\n",
        "    # Code the chain of operations to produce the output y from x\n",
        "    x = F.relu(self.linear1(x))\n",
        "    x = torch.sigmoid(self.linear2(x))\n",
        "    return x"
      ],
      "metadata": {
        "id": "7rkEEYJwJOcI"
      },
      "execution_count": null,
      "outputs": []
    },
    {
      "cell_type": "markdown",
      "source": [
        "Implement, train and test both the sequential and standard APIs below (switch sequential to `False` and run the code blocks below to test the standard API):"
      ],
      "metadata": {
        "id": "jYCeKG9m0EB-"
      }
    },
    {
      "cell_type": "code",
      "source": [
        "sequential = True\n",
        "\n",
        "if sequential:\n",
        "  # Sequential API:\n",
        "  model = nn.Sequential(MLP(n_input, n_hidden, n_output))\n",
        "else:\n",
        "  # Standard API\n",
        "  model = MLP(n_input, n_hidden, n_output)"
      ],
      "metadata": {
        "id": "HYJKJ3kmJHD-"
      },
      "execution_count": null,
      "outputs": []
    },
    {
      "cell_type": "code",
      "source": [
        "model = model.to(device)"
      ],
      "metadata": {
        "id": "cSI9511bcOgk"
      },
      "execution_count": null,
      "outputs": []
    },
    {
      "cell_type": "markdown",
      "source": [
        "# Training the model"
      ],
      "metadata": {
        "id": "aQEqrJUUWOgE"
      }
    },
    {
      "cell_type": "markdown",
      "source": [
        "We are now going to train the model itself. First, we need to define model parameters (batch size, number of epochs, etc.). Then we will define the loss, the optimizer and start the training."
      ],
      "metadata": {
        "id": "L-ZpEhceWUC_"
      }
    },
    {
      "cell_type": "code",
      "source": [
        "learning_rate = 0.01\n",
        "n_epochs = 30\n",
        "batch_size = 64"
      ],
      "metadata": {
        "id": "7hWOYHMRWjDZ"
      },
      "execution_count": null,
      "outputs": []
    },
    {
      "cell_type": "markdown",
      "source": [
        "We will use the binary cross entropy loss from Pytorch. For now, we instantiate an `nn.BCELoss()` object. We will call it during the training on specific outputs $\\hat{y}$ and ground truth values $y$.\n",
        "\n",
        "Use the argument `reduction='sum'` for compatibility with my code below (it corresponds to one of several possible ways to aggregate the individual losses from individual data points)."
      ],
      "metadata": {
        "id": "CLAFurxsWt0_"
      }
    },
    {
      "cell_type": "code",
      "source": [
        "criterion = nn.BCELoss(reduction='sum')"
      ],
      "metadata": {
        "id": "Y2zvR0APXJH1"
      },
      "execution_count": null,
      "outputs": []
    },
    {
      "cell_type": "markdown",
      "source": [
        "We now define the optimizer. We use the Adam optimizer from `optim.Adam`, passing `model.parameters()` as trainable parameters and setting the learning rate to `learning_rate`:"
      ],
      "metadata": {
        "id": "wZFt1jJyXTRW"
      }
    },
    {
      "cell_type": "code",
      "source": [
        "optimizer = optim.Adam(model.parameters(), lr=learning_rate)"
      ],
      "metadata": {
        "id": "T-WN76AKXvBo"
      },
      "execution_count": null,
      "outputs": []
    },
    {
      "cell_type": "markdown",
      "source": [
        "Finally, we need to define a `DataLoader`. It takes as input the torch dataset, the batch size, and a number of optional arguments. The dataloader is responsible for creating minibatches for the training (and/or for the inference/test-time).\n",
        "\n",
        "It is a highly customizable process that relies on a `sampler`. The default sampler (when you do not specify a particular sampler) just samples data points uniformly at random from the full batch to create the minibatch. This default behaviour is very often good enough. We do not worry about this for today and rely on this default behaviour."
      ],
      "metadata": {
        "id": "Vej1l1ulX0FX"
      }
    },
    {
      "cell_type": "code",
      "source": [
        "training_loader = DataLoader(training_dataset, batch_size=batch_size, shuffle=True, drop_last=False)\n",
        "test_loader = DataLoader(test_dataset, batch_size=batch_size, shuffle=False, drop_last=False)"
      ],
      "metadata": {
        "id": "JEI-aX4NZAeG"
      },
      "execution_count": null,
      "outputs": []
    },
    {
      "cell_type": "markdown",
      "source": [
        "We can now move on to the main training loop. It iterates over the dataset for a number of epochs. Each epoch involves a number of iterations: at each iteration, a minibatch is processed and the iteration culminates in a parameter update."
      ],
      "metadata": {
        "id": "Zzdm4J5kZbqv"
      }
    },
    {
      "cell_type": "code",
      "source": [
        "# Helper function: we monitor the accuracy during the training\n",
        "def prediction_accuracy(predict,labels):\n",
        "  accuracy = (predict == labels).sum()/(labels.shape[0])\n",
        "  return accuracy"
      ],
      "metadata": {
        "id": "V3-jQUZEaGFT"
      },
      "execution_count": null,
      "outputs": []
    },
    {
      "cell_type": "code",
      "source": [
        "model.train()\n",
        "\n",
        "for epoch in range(0,n_epochs):\n",
        "  train_loss=0.0\n",
        "  all_labels = []\n",
        "  all_predicted = []\n",
        "\n",
        "  with tqdm(training_loader, unit=\"batch\") as tepoch:\n",
        "    for data, labels in tepoch:\n",
        "      tepoch.set_description(f\"Epoch {epoch}\")\n",
        "\n",
        "      # Put the data on device\n",
        "      data = data.to(device)\n",
        "      labels = labels.to(device)\n",
        "\n",
        "      # BEGIN STUDENT CODE: forward and backward passes\n",
        "\n",
        "      # 1. Do the forward pass\n",
        "      y_predict = model(data)\n",
        "\n",
        "      # 2. Compute the loss\n",
        "      loss = criterion(y_predict, labels)\n",
        "\n",
        "      # 3. Reset gradients to 0\n",
        "      optimizer.zero_grad()\n",
        "\n",
        "      # 4. Do the backward pass\n",
        "      loss.backward()\n",
        "\n",
        "      # 5. Call the parameter update\n",
        "      optimizer.step()\n",
        "\n",
        "      # END STUDENT CODE\n",
        "\n",
        "      # Compute the loss\n",
        "      train_loss += loss.item()\n",
        "      # Store labels and class predictions\n",
        "      all_labels.extend(labels.tolist())\n",
        "      all_predicted.extend((y_predict>=0.5).tolist())\n",
        "\n",
        "  print('Epoch {}: Train Loss: {:.4f}'.format(epoch, train_loss/len(training_loader.dataset)))\n",
        "  print('Epoch {}: Train Accuracy: {:.4f}'.format(epoch, prediction_accuracy(np.array(all_predicted),np.array(all_labels))))"
      ],
      "metadata": {
        "id": "qMA97VHLZ1Z6",
        "colab": {
          "base_uri": "https://localhost:8080/"
        },
        "outputId": "0e862b48-4c3c-49bb-b7ec-f51bcb7a753d"
      },
      "execution_count": null,
      "outputs": [
        {
          "output_type": "stream",
          "name": "stderr",
          "text": [
            "Epoch 0: 100%|██████████| 14/14 [00:00<00:00, 76.09batch/s]\n"
          ]
        },
        {
          "output_type": "stream",
          "name": "stdout",
          "text": [
            "Epoch 0: Train Loss: 0.6866\n",
            "Epoch 0: Train Accuracy: 0.5212\n"
          ]
        },
        {
          "output_type": "stream",
          "name": "stderr",
          "text": [
            "Epoch 1: 100%|██████████| 14/14 [00:00<00:00, 120.57batch/s]\n"
          ]
        },
        {
          "output_type": "stream",
          "name": "stdout",
          "text": [
            "Epoch 1: Train Loss: 0.6703\n",
            "Epoch 1: Train Accuracy: 0.5871\n"
          ]
        },
        {
          "output_type": "stream",
          "name": "stderr",
          "text": [
            "Epoch 2: 100%|██████████| 14/14 [00:00<00:00, 158.97batch/s]\n"
          ]
        },
        {
          "output_type": "stream",
          "name": "stdout",
          "text": [
            "Epoch 2: Train Loss: 0.6518\n",
            "Epoch 2: Train Accuracy: 0.8012\n"
          ]
        },
        {
          "output_type": "stream",
          "name": "stderr",
          "text": [
            "Epoch 3: 100%|██████████| 14/14 [00:00<00:00, 143.68batch/s]\n"
          ]
        },
        {
          "output_type": "stream",
          "name": "stdout",
          "text": [
            "Epoch 3: Train Loss: 0.6238\n",
            "Epoch 3: Train Accuracy: 0.8859\n"
          ]
        },
        {
          "output_type": "stream",
          "name": "stderr",
          "text": [
            "Epoch 4: 100%|██████████| 14/14 [00:00<00:00, 68.30batch/s]\n"
          ]
        },
        {
          "output_type": "stream",
          "name": "stdout",
          "text": [
            "Epoch 4: Train Loss: 0.5964\n",
            "Epoch 4: Train Accuracy: 0.9565\n"
          ]
        },
        {
          "output_type": "stream",
          "name": "stderr",
          "text": [
            "Epoch 5: 100%|██████████| 14/14 [00:00<00:00, 110.45batch/s]\n"
          ]
        },
        {
          "output_type": "stream",
          "name": "stdout",
          "text": [
            "Epoch 5: Train Loss: 0.5697\n",
            "Epoch 5: Train Accuracy: 0.7741\n"
          ]
        },
        {
          "output_type": "stream",
          "name": "stderr",
          "text": [
            "Epoch 6: 100%|██████████| 14/14 [00:00<00:00, 86.38batch/s]\n"
          ]
        },
        {
          "output_type": "stream",
          "name": "stdout",
          "text": [
            "Epoch 6: Train Loss: 0.5268\n",
            "Epoch 6: Train Accuracy: 0.9965\n"
          ]
        },
        {
          "output_type": "stream",
          "name": "stderr",
          "text": [
            "Epoch 7: 100%|██████████| 14/14 [00:00<00:00, 105.80batch/s]\n"
          ]
        },
        {
          "output_type": "stream",
          "name": "stdout",
          "text": [
            "Epoch 7: Train Loss: 0.4879\n",
            "Epoch 7: Train Accuracy: 0.9965\n"
          ]
        },
        {
          "output_type": "stream",
          "name": "stderr",
          "text": [
            "Epoch 8: 100%|██████████| 14/14 [00:00<00:00, 222.69batch/s]\n"
          ]
        },
        {
          "output_type": "stream",
          "name": "stdout",
          "text": [
            "Epoch 8: Train Loss: 0.4454\n",
            "Epoch 8: Train Accuracy: 0.9988\n"
          ]
        },
        {
          "output_type": "stream",
          "name": "stderr",
          "text": [
            "Epoch 9: 100%|██████████| 14/14 [00:00<00:00, 188.92batch/s]\n"
          ]
        },
        {
          "output_type": "stream",
          "name": "stdout",
          "text": [
            "Epoch 9: Train Loss: 0.4095\n",
            "Epoch 9: Train Accuracy: 0.9965\n"
          ]
        },
        {
          "output_type": "stream",
          "name": "stderr",
          "text": [
            "Epoch 10: 100%|██████████| 14/14 [00:00<00:00, 240.26batch/s]\n"
          ]
        },
        {
          "output_type": "stream",
          "name": "stdout",
          "text": [
            "Epoch 10: Train Loss: 0.3708\n",
            "Epoch 10: Train Accuracy: 0.9965\n"
          ]
        },
        {
          "output_type": "stream",
          "name": "stderr",
          "text": [
            "Epoch 11: 100%|██████████| 14/14 [00:00<00:00, 220.87batch/s]\n"
          ]
        },
        {
          "output_type": "stream",
          "name": "stdout",
          "text": [
            "Epoch 11: Train Loss: 0.3360\n",
            "Epoch 11: Train Accuracy: 1.0000\n"
          ]
        },
        {
          "output_type": "stream",
          "name": "stderr",
          "text": [
            "Epoch 12: 100%|██████████| 14/14 [00:00<00:00, 213.50batch/s]\n"
          ]
        },
        {
          "output_type": "stream",
          "name": "stdout",
          "text": [
            "Epoch 12: Train Loss: 0.2997\n",
            "Epoch 12: Train Accuracy: 0.9965\n"
          ]
        },
        {
          "output_type": "stream",
          "name": "stderr",
          "text": [
            "Epoch 13: 100%|██████████| 14/14 [00:00<00:00, 267.91batch/s]\n"
          ]
        },
        {
          "output_type": "stream",
          "name": "stdout",
          "text": [
            "Epoch 13: Train Loss: 0.2664\n",
            "Epoch 13: Train Accuracy: 1.0000\n"
          ]
        },
        {
          "output_type": "stream",
          "name": "stderr",
          "text": [
            "Epoch 14: 100%|██████████| 14/14 [00:00<00:00, 257.59batch/s]\n"
          ]
        },
        {
          "output_type": "stream",
          "name": "stdout",
          "text": [
            "Epoch 14: Train Loss: 0.2442\n",
            "Epoch 14: Train Accuracy: 1.0000\n"
          ]
        },
        {
          "output_type": "stream",
          "name": "stderr",
          "text": [
            "Epoch 15: 100%|██████████| 14/14 [00:00<00:00, 232.61batch/s]\n"
          ]
        },
        {
          "output_type": "stream",
          "name": "stdout",
          "text": [
            "Epoch 15: Train Loss: 0.2179\n",
            "Epoch 15: Train Accuracy: 1.0000\n"
          ]
        },
        {
          "output_type": "stream",
          "name": "stderr",
          "text": [
            "Epoch 16: 100%|██████████| 14/14 [00:00<00:00, 264.80batch/s]\n"
          ]
        },
        {
          "output_type": "stream",
          "name": "stdout",
          "text": [
            "Epoch 16: Train Loss: 0.1934\n",
            "Epoch 16: Train Accuracy: 1.0000\n"
          ]
        },
        {
          "output_type": "stream",
          "name": "stderr",
          "text": [
            "Epoch 17: 100%|██████████| 14/14 [00:00<00:00, 228.71batch/s]\n"
          ]
        },
        {
          "output_type": "stream",
          "name": "stdout",
          "text": [
            "Epoch 17: Train Loss: 0.1738\n",
            "Epoch 17: Train Accuracy: 1.0000\n"
          ]
        },
        {
          "output_type": "stream",
          "name": "stderr",
          "text": [
            "Epoch 18: 100%|██████████| 14/14 [00:00<00:00, 236.59batch/s]\n"
          ]
        },
        {
          "output_type": "stream",
          "name": "stdout",
          "text": [
            "Epoch 18: Train Loss: 0.1562\n",
            "Epoch 18: Train Accuracy: 1.0000\n"
          ]
        },
        {
          "output_type": "stream",
          "name": "stderr",
          "text": [
            "Epoch 19: 100%|██████████| 14/14 [00:00<00:00, 244.31batch/s]\n"
          ]
        },
        {
          "output_type": "stream",
          "name": "stdout",
          "text": [
            "Epoch 19: Train Loss: 0.1410\n",
            "Epoch 19: Train Accuracy: 1.0000\n"
          ]
        },
        {
          "output_type": "stream",
          "name": "stderr",
          "text": [
            "Epoch 20: 100%|██████████| 14/14 [00:00<00:00, 228.97batch/s]\n"
          ]
        },
        {
          "output_type": "stream",
          "name": "stdout",
          "text": [
            "Epoch 20: Train Loss: 0.1277\n",
            "Epoch 20: Train Accuracy: 1.0000\n"
          ]
        },
        {
          "output_type": "stream",
          "name": "stderr",
          "text": [
            "Epoch 21: 100%|██████████| 14/14 [00:00<00:00, 230.34batch/s]\n"
          ]
        },
        {
          "output_type": "stream",
          "name": "stdout",
          "text": [
            "Epoch 21: Train Loss: 0.1171\n",
            "Epoch 21: Train Accuracy: 1.0000\n"
          ]
        },
        {
          "output_type": "stream",
          "name": "stderr",
          "text": [
            "Epoch 22: 100%|██████████| 14/14 [00:00<00:00, 237.64batch/s]\n"
          ]
        },
        {
          "output_type": "stream",
          "name": "stdout",
          "text": [
            "Epoch 22: Train Loss: 0.1097\n",
            "Epoch 22: Train Accuracy: 1.0000\n"
          ]
        },
        {
          "output_type": "stream",
          "name": "stderr",
          "text": [
            "Epoch 23: 100%|██████████| 14/14 [00:00<00:00, 247.48batch/s]\n"
          ]
        },
        {
          "output_type": "stream",
          "name": "stdout",
          "text": [
            "Epoch 23: Train Loss: 0.0983\n",
            "Epoch 23: Train Accuracy: 1.0000\n"
          ]
        },
        {
          "output_type": "stream",
          "name": "stderr",
          "text": [
            "Epoch 24: 100%|██████████| 14/14 [00:00<00:00, 236.27batch/s]\n"
          ]
        },
        {
          "output_type": "stream",
          "name": "stdout",
          "text": [
            "Epoch 24: Train Loss: 0.0894\n",
            "Epoch 24: Train Accuracy: 1.0000\n"
          ]
        },
        {
          "output_type": "stream",
          "name": "stderr",
          "text": [
            "Epoch 25: 100%|██████████| 14/14 [00:00<00:00, 204.92batch/s]\n"
          ]
        },
        {
          "output_type": "stream",
          "name": "stdout",
          "text": [
            "Epoch 25: Train Loss: 0.0815\n",
            "Epoch 25: Train Accuracy: 1.0000\n"
          ]
        },
        {
          "output_type": "stream",
          "name": "stderr",
          "text": [
            "Epoch 26: 100%|██████████| 14/14 [00:00<00:00, 211.15batch/s]\n"
          ]
        },
        {
          "output_type": "stream",
          "name": "stdout",
          "text": [
            "Epoch 26: Train Loss: 0.0765\n",
            "Epoch 26: Train Accuracy: 1.0000\n"
          ]
        },
        {
          "output_type": "stream",
          "name": "stderr",
          "text": [
            "Epoch 27: 100%|██████████| 14/14 [00:00<00:00, 237.55batch/s]\n"
          ]
        },
        {
          "output_type": "stream",
          "name": "stdout",
          "text": [
            "Epoch 27: Train Loss: 0.0696\n",
            "Epoch 27: Train Accuracy: 1.0000\n"
          ]
        },
        {
          "output_type": "stream",
          "name": "stderr",
          "text": [
            "Epoch 28: 100%|██████████| 14/14 [00:00<00:00, 199.11batch/s]\n"
          ]
        },
        {
          "output_type": "stream",
          "name": "stdout",
          "text": [
            "Epoch 28: Train Loss: 0.0645\n",
            "Epoch 28: Train Accuracy: 1.0000\n"
          ]
        },
        {
          "output_type": "stream",
          "name": "stderr",
          "text": [
            "Epoch 29: 100%|██████████| 14/14 [00:00<00:00, 215.47batch/s]"
          ]
        },
        {
          "output_type": "stream",
          "name": "stdout",
          "text": [
            "Epoch 29: Train Loss: 0.0597\n",
            "Epoch 29: Train Accuracy: 1.0000\n"
          ]
        },
        {
          "output_type": "stream",
          "name": "stderr",
          "text": [
            "\n"
          ]
        }
      ]
    },
    {
      "cell_type": "markdown",
      "source": [
        "# Testing the model"
      ],
      "metadata": {
        "id": "7yPmATYdeJnP"
      }
    },
    {
      "cell_type": "markdown",
      "source": [
        "Let us now visualize the decision function and compute the test accuracy for the model."
      ],
      "metadata": {
        "id": "JT8lH75VeAKA"
      }
    },
    {
      "cell_type": "code",
      "source": [
        "model.eval()\n",
        "\n",
        "all_predicted = []\n",
        "all_labels = []\n",
        "\n",
        "with tqdm(test_loader, unit=\"batch\") as tepoch:\n",
        "  for data, labels in tepoch:\n",
        "    all_labels.extend(labels.tolist())\n",
        "\n",
        "    data = data.to(device)\n",
        "    y_predict = model(data)\n",
        "    all_predicted.extend((y_predict>=0.5).tolist())\n",
        "\n",
        "test_accuracy = prediction_accuracy(np.array(all_predicted),np.array(all_labels))\n",
        "\n",
        "print(\"\\nTest Accuracy:\", test_accuracy)"
      ],
      "metadata": {
        "colab": {
          "base_uri": "https://localhost:8080/"
        },
        "id": "2NSC5AmIeQWf",
        "outputId": "fc878193-47eb-4470-8524-d193d0fb7b13"
      },
      "execution_count": null,
      "outputs": [
        {
          "output_type": "stream",
          "name": "stderr",
          "text": [
            "100%|██████████| 3/3 [00:00<00:00, 451.65batch/s]"
          ]
        },
        {
          "output_type": "stream",
          "name": "stdout",
          "text": [
            "\n",
            "Test Accuracy: 1.0\n"
          ]
        },
        {
          "output_type": "stream",
          "name": "stderr",
          "text": [
            "\n"
          ]
        }
      ]
    },
    {
      "cell_type": "markdown",
      "metadata": {
        "id": "cRL1c6UyRHAy"
      },
      "source": [
        "Here is a function that shows the decision boundary of our network. This works only for 2D input data:"
      ]
    },
    {
      "cell_type": "code",
      "execution_count": null,
      "metadata": {
        "id": "x0cUhY8xRHAz"
      },
      "outputs": [],
      "source": [
        "# THIS CODE IS GIVEN:\n",
        "\n",
        "def plot_decision_function_2d(model, X, Y):\n",
        "   # create a mesh to plot in\n",
        "    h = .02  # step size in the mesh\n",
        "    offset = 0.1\n",
        "    x_min, x_max = X[:, 0].min() - offset, X[:, 0].max() + offset\n",
        "    y_min, y_max = X[:, 1].min() - offset, X[:, 1].max() + offset\n",
        "    xx, yy = np.meshgrid(np.arange(x_min, x_max, h),\n",
        "                         np.arange(y_min, y_max, h))\n",
        "\n",
        "    # Plot the decision boundary. For that, we will assign a color to each\n",
        "    # point in the mesh [x_min, x_max]x[y_min, y_max].\n",
        "    Z = model(torch.tensor(np.c_[xx.ravel(), yy.ravel()]).float().to(device)).detach().cpu().numpy()\n",
        "    Z = Z<0.5\n",
        "\n",
        "    # Put the result into a color plot\n",
        "    Z = Z.reshape(xx.shape)\n",
        "    plt.figure()\n",
        "    plt.contourf(xx, yy, Z, cmap=plt.cm.Paired)\n",
        "\n",
        "    plt.plot(X[Y == 1, 0], X[Y == 1, 1], 'yo')\n",
        "    plt.plot(X[Y == 0, 0], X[Y == 0, 1], 'ko')\n",
        "\n",
        "    plt.title(\"Decision surface\")\n",
        "    plt.axis('tight')"
      ]
    },
    {
      "cell_type": "code",
      "source": [
        "plot_decision_function_2d(model, X_test, Y_test)"
      ],
      "metadata": {
        "colab": {
          "base_uri": "https://localhost:8080/",
          "height": 452
        },
        "id": "ISBvER62gG-J",
        "outputId": "ad29fece-4350-4352-9871-e6fc40463cbd"
      },
      "execution_count": null,
      "outputs": [
        {
          "output_type": "display_data",
          "data": {
            "text/plain": [
              "<Figure size 640x480 with 1 Axes>"
            ],
            "image/png": "[encoded data removed]"
          },
          "metadata": {}
        }
      ]
    },
    {
      "cell_type": "markdown",
      "metadata": {
        "id": "6oni6Q5vRHA0"
      },
      "source": [
        "# 2 - MLP with several hidden layers, on MNIST\n",
        "\n",
        "We are now going to create an MLP with several hidden layers. We are going to use a more complicated dataset : the MNIST dataset, which contains images of handwritten digits. There are 10 classes, one for each digit.\n",
        "\n",
        "We are going to implement the following architecture :\n",
        "\n",
        "- Fully connected layer, mapping from `n_input` to `n_hidden_1` neurons\n",
        "- Relu activation\n",
        "- Fully connected layer, mapping from `n_hidden_1` to `n_hidden_2` neurons\n",
        "- Relu activation\n",
        "- Fully connected layer, mapping from `n_hidden_2` to `n_hidden_3` neurons\n",
        "- Relu activation\n",
        "- Fully connected layer, mapping from `n_hidden_3` to `n_output` (=10) neurons\n",
        "\n",
        "__IMPORTANT Note__ The sigmoid layer has been removed. Ideally, we should have replaced it by a softmax layer (at the end) since we have a multi-class problem. However, this softmax activation is already present in the loss ```nn.CrossEntropyLoss()```. This is why we don't have to put one here. The unnormalized outputs before this softmax are called logits. Hence, the network outputs logits."
      ]
    },
    {
      "cell_type": "markdown",
      "source": [
        "First, we load the MNIST dataset."
      ],
      "metadata": {
        "id": "YdtKVj75hdGX"
      }
    },
    {
      "cell_type": "code",
      "execution_count": null,
      "metadata": {
        "id": "Z0cGLMKRRHA0",
        "colab": {
          "base_uri": "https://localhost:8080/"
        },
        "outputId": "8d1ac3a7-d6d5-43e1-ff23-1b128a6ede7a"
      },
      "outputs": [
        {
          "output_type": "stream",
          "name": "stderr",
          "text": [
            "100%|██████████| 9.91M/9.91M [00:00<00:00, 40.4MB/s]\n",
            "100%|██████████| 28.9k/28.9k [00:00<00:00, 1.71MB/s]\n",
            "100%|██████████| 1.65M/1.65M [00:00<00:00, 14.8MB/s]\n",
            "100%|██████████| 4.54k/4.54k [00:00<00:00, 2.79MB/s]\n"
          ]
        }
      ],
      "source": [
        "# Import MNIST data\n",
        "import torchvision\n",
        "import torchvision.transforms as transforms\n",
        "\n",
        "transform = transforms.Compose(\n",
        "    [transforms.ToTensor(),\n",
        "     transforms.Normalize([0.5], [0.5]),\n",
        "     lambda x: torch.flatten(x),\n",
        "     lambda x: x.float()]) # flatten the last two dimensions of the images\n",
        "\n",
        "trainset = torchvision.datasets.MNIST(root='./data', train=True, download=True, transform=transform)\n",
        "testset = torchvision.datasets.MNIST(root='./data', train=False, download=True, transform=transform)\n"
      ]
    },
    {
      "cell_type": "markdown",
      "source": [
        "Note that here, we have defined transforms and passed them as argument when creating the dataset. These transforms will be called systematically in the `get_item` method implemented in the dataset, modifying each image before returning it. Here we use this tool to format and normalize input images.\n",
        "\n",
        "The same process could be used to apply random augmentations to the input images (for data augmentations), by composing with functions that apply random transforms."
      ],
      "metadata": {
        "id": "mCS01zvIick4"
      }
    },
    {
      "cell_type": "code",
      "source": [
        "device = torch.device(\"cuda:0\" if torch.cuda.is_available() else \"cpu\")\n",
        "print(device)"
      ],
      "metadata": {
        "colab": {
          "base_uri": "https://localhost:8080/"
        },
        "id": "HA1zJE30jlMh",
        "outputId": "36a5be93-0ac8-4bdf-f9ff-08f697af98a2"
      },
      "execution_count": null,
      "outputs": [
        {
          "output_type": "stream",
          "name": "stdout",
          "text": [
            "cpu\n"
          ]
        }
      ]
    },
    {
      "cell_type": "markdown",
      "metadata": {
        "id": "EzMV_9-NRHA1"
      },
      "source": [
        "MLP architecture, via sequential API:"
      ]
    },
    {
      "cell_type": "code",
      "source": [
        "n_hidden_1 = 256 # 1st layer number of neurons\n",
        "n_hidden_2 = 256 # 2nd layer number of neurons\n",
        "n_hidden_3 = 128 # 3rd layer number of neurons\n",
        "\n",
        "n_input = trainset[0][0].shape[0] # input shape (a vectorized 28*28 image)\n",
        "n_output = 10 # MNIST total classes (0-9 digits)"
      ],
      "metadata": {
        "id": "pvXuuDqkjrmK"
      },
      "execution_count": null,
      "outputs": []
    },
    {
      "cell_type": "code",
      "source": [
        "model_multi_layer = nn.Sequential(\n",
        "    nn.Linear(n_input, n_hidden_1), nn.ReLU(),\n",
        "    nn.Linear(n_hidden_1, n_hidden_2), nn.ReLU(),\n",
        "    nn.Linear(n_hidden_2, n_hidden_3), nn.ReLU(),\n",
        "    nn.Linear(n_hidden_3, n_output))"
      ],
      "metadata": {
        "id": "1eMCjoY_kd1g"
      },
      "execution_count": null,
      "outputs": []
    },
    {
      "cell_type": "code",
      "source": [
        "model_multi_layer = model_multi_layer.to(device)"
      ],
      "metadata": {
        "id": "LSOY8Blrmk7e"
      },
      "execution_count": null,
      "outputs": []
    },
    {
      "cell_type": "markdown",
      "source": [
        "Let us move on to the training. You need to define the loss using the instructions above, and the optimizer as usual. For the loss, use the argument `reduction='sum'` as before for compatibility with my code."
      ],
      "metadata": {
        "id": "SVP381tukx2v"
      }
    },
    {
      "cell_type": "code",
      "source": [
        "learning_rate = 0.01\n",
        "n_epochs = 20\n",
        "batch_size = 64"
      ],
      "metadata": {
        "id": "_1A3dLZWkQYk"
      },
      "execution_count": null,
      "outputs": []
    },
    {
      "cell_type": "code",
      "source": [
        "criterion = nn.CrossEntropyLoss(reduction='sum')\n",
        "optimizer = optim.Adam(model_multi_layer.parameters(), lr=learning_rate)"
      ],
      "metadata": {
        "id": "w6Ii87j6kT2L"
      },
      "execution_count": null,
      "outputs": []
    },
    {
      "cell_type": "code",
      "source": [
        "training_loader = DataLoader(trainset, batch_size=batch_size, shuffle=True, drop_last=False)\n",
        "test_loader = DataLoader(testset, batch_size=batch_size, shuffle=False, drop_last=False)"
      ],
      "metadata": {
        "id": "cik3WaZ4l9hI"
      },
      "execution_count": null,
      "outputs": []
    },
    {
      "cell_type": "markdown",
      "source": [
        "Now comes the main loop for the training and testing:"
      ],
      "metadata": {
        "id": "RAauHIatk8-f"
      }
    },
    {
      "cell_type": "code",
      "source": [
        "# Helper function: we monitor the accuracy during the training\n",
        "def vector_to_class(x):\n",
        "  y = torch.argmax(F.softmax(x,dim=1),axis=1)\n",
        "  return y\n",
        "\n",
        "def prediction_accuracy(predict,labels):\n",
        "  accuracy = (predict == labels).sum()/(labels.shape[0])\n",
        "  return accuracy"
      ],
      "metadata": {
        "id": "SQabUwXHlO3D"
      },
      "execution_count": null,
      "outputs": []
    },
    {
      "cell_type": "code",
      "source": [
        "model_multi_layer.train()\n",
        "\n",
        "for epoch in range(0,n_epochs):\n",
        "  train_loss=0.0\n",
        "  all_labels = []\n",
        "  all_predicted = []\n",
        "\n",
        "  with tqdm(training_loader, unit=\"batch\") as tepoch:\n",
        "    for data, labels in tepoch:\n",
        "      tepoch.set_description(f\"Epoch {epoch}\")\n",
        "\n",
        "      # Put the data on device\n",
        "      data = data.to(device)\n",
        "      labels = labels.to(device)\n",
        "\n",
        "      # BEGIN STUDENT CODE: forward and backward passes\n",
        "      # 1. Do the forward pass\n",
        "      y_predict = model_multi_layer(data)\n",
        "\n",
        "      # 2. Compute the loss\n",
        "      loss = criterion(y_predict, labels)\n",
        "\n",
        "      # 3. Reset gradients to 0\n",
        "      optimizer.zero_grad()\n",
        "\n",
        "      # 4. Do the backward pass\n",
        "      loss.backward()\n",
        "\n",
        "      # 5. Call the parameter update\n",
        "      optimizer.step()\n",
        "\n",
        "      # END STUDENT CODE\n",
        "\n",
        "      # Compute the loss\n",
        "      train_loss += loss.item()\n",
        "      # Store labels and class predictions\n",
        "      all_labels.extend(labels.tolist())\n",
        "      all_predicted.extend(vector_to_class(y_predict).tolist())\n",
        "\n",
        "  print('Epoch {}: Train Loss: {:.4f}'.format(epoch, train_loss/len(training_loader.dataset)))\n",
        "  print('Epoch {}: Train Accuracy: {:.4f}'.format(epoch, prediction_accuracy(np.array(all_predicted),np.array(all_labels))))"
      ],
      "metadata": {
        "id": "00P_hQ04lO3F",
        "colab": {
          "base_uri": "https://localhost:8080/"
        },
        "outputId": "16bef7d9-de22-4e65-9c5a-4ed68697fb3f"
      },
      "execution_count": null,
      "outputs": [
        {
          "output_type": "stream",
          "name": "stderr",
          "text": [
            "Epoch 0: 100%|██████████| 938/938 [00:29<00:00, 31.57batch/s]\n"
          ]
        },
        {
          "output_type": "stream",
          "name": "stdout",
          "text": [
            "Epoch 0: Train Loss: 0.4457\n",
            "Epoch 0: Train Accuracy: 0.8615\n"
          ]
        },
        {
          "output_type": "stream",
          "name": "stderr",
          "text": [
            "Epoch 1: 100%|██████████| 938/938 [00:30<00:00, 30.81batch/s]\n"
          ]
        },
        {
          "output_type": "stream",
          "name": "stdout",
          "text": [
            "Epoch 1: Train Loss: 0.3060\n",
            "Epoch 1: Train Accuracy: 0.9119\n"
          ]
        },
        {
          "output_type": "stream",
          "name": "stderr",
          "text": [
            "Epoch 2: 100%|██████████| 938/938 [00:31<00:00, 29.74batch/s]\n"
          ]
        },
        {
          "output_type": "stream",
          "name": "stdout",
          "text": [
            "Epoch 2: Train Loss: 0.2862\n",
            "Epoch 2: Train Accuracy: 0.9194\n"
          ]
        },
        {
          "output_type": "stream",
          "name": "stderr",
          "text": [
            "Epoch 3: 100%|██████████| 938/938 [00:30<00:00, 30.55batch/s]\n"
          ]
        },
        {
          "output_type": "stream",
          "name": "stdout",
          "text": [
            "Epoch 3: Train Loss: 0.2764\n",
            "Epoch 3: Train Accuracy: 0.9254\n"
          ]
        },
        {
          "output_type": "stream",
          "name": "stderr",
          "text": [
            "Epoch 4: 100%|██████████| 938/938 [00:31<00:00, 29.72batch/s]\n"
          ]
        },
        {
          "output_type": "stream",
          "name": "stdout",
          "text": [
            "Epoch 4: Train Loss: 0.2479\n",
            "Epoch 4: Train Accuracy: 0.9317\n"
          ]
        },
        {
          "output_type": "stream",
          "name": "stderr",
          "text": [
            "Epoch 5: 100%|██████████| 938/938 [00:31<00:00, 30.22batch/s]\n"
          ]
        },
        {
          "output_type": "stream",
          "name": "stdout",
          "text": [
            "Epoch 5: Train Loss: 0.2474\n",
            "Epoch 5: Train Accuracy: 0.9344\n"
          ]
        },
        {
          "output_type": "stream",
          "name": "stderr",
          "text": [
            "Epoch 6: 100%|██████████| 938/938 [00:30<00:00, 30.86batch/s]\n"
          ]
        },
        {
          "output_type": "stream",
          "name": "stdout",
          "text": [
            "Epoch 6: Train Loss: 0.2559\n",
            "Epoch 6: Train Accuracy: 0.9315\n"
          ]
        },
        {
          "output_type": "stream",
          "name": "stderr",
          "text": [
            "Epoch 7: 100%|██████████| 938/938 [00:33<00:00, 28.28batch/s]\n"
          ]
        },
        {
          "output_type": "stream",
          "name": "stdout",
          "text": [
            "Epoch 7: Train Loss: 0.2328\n",
            "Epoch 7: Train Accuracy: 0.9383\n"
          ]
        },
        {
          "output_type": "stream",
          "name": "stderr",
          "text": [
            "Epoch 8: 100%|██████████| 938/938 [00:30<00:00, 30.76batch/s]\n"
          ]
        },
        {
          "output_type": "stream",
          "name": "stdout",
          "text": [
            "Epoch 8: Train Loss: 0.2385\n",
            "Epoch 8: Train Accuracy: 0.9373\n"
          ]
        },
        {
          "output_type": "stream",
          "name": "stderr",
          "text": [
            "Epoch 9: 100%|██████████| 938/938 [00:33<00:00, 27.72batch/s]\n"
          ]
        },
        {
          "output_type": "stream",
          "name": "stdout",
          "text": [
            "Epoch 9: Train Loss: 0.2441\n",
            "Epoch 9: Train Accuracy: 0.9367\n"
          ]
        },
        {
          "output_type": "stream",
          "name": "stderr",
          "text": [
            "Epoch 10: 100%|██████████| 938/938 [00:43<00:00, 21.47batch/s]\n"
          ]
        },
        {
          "output_type": "stream",
          "name": "stdout",
          "text": [
            "Epoch 10: Train Loss: 0.2330\n",
            "Epoch 10: Train Accuracy: 0.9395\n"
          ]
        },
        {
          "output_type": "stream",
          "name": "stderr",
          "text": [
            "Epoch 11: 100%|██████████| 938/938 [00:34<00:00, 27.42batch/s]\n"
          ]
        },
        {
          "output_type": "stream",
          "name": "stdout",
          "text": [
            "Epoch 11: Train Loss: 0.2232\n",
            "Epoch 11: Train Accuracy: 0.9423\n"
          ]
        },
        {
          "output_type": "stream",
          "name": "stderr",
          "text": [
            "Epoch 12: 100%|██████████| 938/938 [00:33<00:00, 28.02batch/s]\n"
          ]
        },
        {
          "output_type": "stream",
          "name": "stdout",
          "text": [
            "Epoch 12: Train Loss: 0.2380\n",
            "Epoch 12: Train Accuracy: 0.9392\n"
          ]
        },
        {
          "output_type": "stream",
          "name": "stderr",
          "text": [
            "Epoch 13: 100%|██████████| 938/938 [00:31<00:00, 29.60batch/s]\n"
          ]
        },
        {
          "output_type": "stream",
          "name": "stdout",
          "text": [
            "Epoch 13: Train Loss: 0.2237\n",
            "Epoch 13: Train Accuracy: 0.9425\n"
          ]
        },
        {
          "output_type": "stream",
          "name": "stderr",
          "text": [
            "Epoch 14: 100%|██████████| 938/938 [00:31<00:00, 29.87batch/s]\n"
          ]
        },
        {
          "output_type": "stream",
          "name": "stdout",
          "text": [
            "Epoch 14: Train Loss: 0.2280\n",
            "Epoch 14: Train Accuracy: 0.9414\n"
          ]
        },
        {
          "output_type": "stream",
          "name": "stderr",
          "text": [
            "Epoch 15: 100%|██████████| 938/938 [00:33<00:00, 28.17batch/s]\n"
          ]
        },
        {
          "output_type": "stream",
          "name": "stdout",
          "text": [
            "Epoch 15: Train Loss: 0.2228\n",
            "Epoch 15: Train Accuracy: 0.9424\n"
          ]
        },
        {
          "output_type": "stream",
          "name": "stderr",
          "text": [
            "Epoch 16: 100%|██████████| 938/938 [00:32<00:00, 29.03batch/s]\n"
          ]
        },
        {
          "output_type": "stream",
          "name": "stdout",
          "text": [
            "Epoch 16: Train Loss: 0.2288\n",
            "Epoch 16: Train Accuracy: 0.9424\n"
          ]
        },
        {
          "output_type": "stream",
          "name": "stderr",
          "text": [
            "Epoch 17: 100%|██████████| 938/938 [00:38<00:00, 24.60batch/s]\n"
          ]
        },
        {
          "output_type": "stream",
          "name": "stdout",
          "text": [
            "Epoch 17: Train Loss: 0.2180\n",
            "Epoch 17: Train Accuracy: 0.9443\n"
          ]
        },
        {
          "output_type": "stream",
          "name": "stderr",
          "text": [
            "Epoch 18: 100%|██████████| 938/938 [00:36<00:00, 25.42batch/s]\n"
          ]
        },
        {
          "output_type": "stream",
          "name": "stdout",
          "text": [
            "Epoch 18: Train Loss: 0.2201\n",
            "Epoch 18: Train Accuracy: 0.9444\n"
          ]
        },
        {
          "output_type": "stream",
          "name": "stderr",
          "text": [
            "Epoch 19: 100%|██████████| 938/938 [00:39<00:00, 23.87batch/s]\n"
          ]
        },
        {
          "output_type": "stream",
          "name": "stdout",
          "text": [
            "Epoch 19: Train Loss: 0.2222\n",
            "Epoch 19: Train Accuracy: 0.9437\n"
          ]
        }
      ]
    },
    {
      "cell_type": "markdown",
      "source": [
        "Testing:"
      ],
      "metadata": {
        "id": "xcOkvA8LlYoU"
      }
    },
    {
      "cell_type": "code",
      "source": [
        "model_multi_layer.eval()\n",
        "\n",
        "all_predicted = []\n",
        "all_labels = []\n",
        "\n",
        "with tqdm(test_loader, unit=\"batch\") as tepoch:\n",
        "  for data, labels in tepoch:\n",
        "    all_labels.extend(labels.tolist())\n",
        "\n",
        "    data = data.to(device)\n",
        "    y_predict = model_multi_layer(data)\n",
        "    all_predicted.extend(vector_to_class(y_predict).tolist())\n",
        "\n",
        "test_accuracy = prediction_accuracy(np.array(all_predicted),np.array(all_labels))\n",
        "\n",
        "print(\"\\nTest Accuracy:\", test_accuracy)"
      ],
      "metadata": {
        "id": "6MIx31LglYoV",
        "colab": {
          "base_uri": "https://localhost:8080/"
        },
        "outputId": "77034a82-d126-4c70-ed60-b3b83a3ab91d"
      },
      "execution_count": null,
      "outputs": [
        {
          "output_type": "stream",
          "name": "stderr",
          "text": [
            "100%|██████████| 157/157 [00:02<00:00, 53.49batch/s]"
          ]
        },
        {
          "output_type": "stream",
          "name": "stdout",
          "text": [
            "\n",
            "Test Accuracy: 0.9242\n"
          ]
        },
        {
          "output_type": "stream",
          "name": "stderr",
          "text": [
            "\n"
          ]
        }
      ]
    },
    {
      "cell_type": "markdown",
      "source": [
        "We visualize a few images along with the predicted label on top:"
      ],
      "metadata": {
        "id": "avqE-uSRlkC-"
      }
    },
    {
      "cell_type": "code",
      "source": [
        "def test_mnist_images(model,testset):\n",
        "  model.eval()\n",
        "  plt.figure(figsize=(10, 6))\n",
        "  for idx in range(0,10):\n",
        "      plt.subplot(2, 5, idx+1)\n",
        "      rand_ind = np.random.randint(0,len(testset))\n",
        "      plt.imshow(np.reshape(testset[rand_ind][0].detach().cpu().numpy(),(28,28)),cmap='gray')\n",
        "      # get prediction\n",
        "      model_prediction = np.argmax(model(torch.unsqueeze(testset[rand_ind][0], dim=0).to(device)).detach().cpu().numpy(),axis=1).squeeze()\n",
        "      plt.title(str(int(model_prediction)))"
      ],
      "metadata": {
        "id": "tRe7HCO-ljeR"
      },
      "execution_count": null,
      "outputs": []
    },
    {
      "cell_type": "code",
      "source": [
        "test_mnist_images(model_multi_layer,testset)"
      ],
      "metadata": {
        "colab": {
          "base_uri": "https://localhost:8080/",
          "height": 468
        },
        "id": "bjOGBLtBlrja",
        "outputId": "2215ee0a-e32b-4d6f-a17e-0753ac88e534"
      },
      "execution_count": null,
      "outputs": [
        {
          "output_type": "display_data",
          "data": {
            "text/plain": [
              "<Figure size 1000x600 with 10 Axes>"
            ],
            "image/png": "[encoded data removed]"
          },
          "metadata": {}
        }
      ]
    },
    {
      "cell_type": "markdown",
      "metadata": {
        "id": "lItdBVnfu7xK"
      },
      "source": [
        "The generalization is reasonably good on this simple dataset (on my run). Regardless, to improve training and limit overfitting, we can turn to __regularisation__."
      ]
    },
    {
      "cell_type": "markdown",
      "metadata": {
        "id": "Vgao_U5XRHA2"
      },
      "source": [
        "# Batch normalization\n",
        "\n",
        "One approach to regularisation which we have seen during the lesson is known as batch normalisation. This can be implemented very simply in Tensorflow by adding the following layer :\n",
        "\n",
        "- ```BatchNorm1d(n_features)```\n",
        "\n",
        "with `n_features` the number of neurons in the layer immediately prior to the batch norm layer. Change your model below, by adapting the model above. You will put `BatchNorm1d` layers after every ReLu non-linearity."
      ]
    },
    {
      "cell_type": "code",
      "source": [
        "device = torch.device(\"cuda:0\" if torch.cuda.is_available() else \"cpu\")\n",
        "print(device)"
      ],
      "metadata": {
        "colab": {
          "base_uri": "https://localhost:8080/"
        },
        "outputId": "c70b4870-7909-482f-be1b-d823ec5733e7",
        "id": "Ae7gXSs8rFnc"
      },
      "execution_count": null,
      "outputs": [
        {
          "output_type": "stream",
          "name": "stdout",
          "text": [
            "cpu\n"
          ]
        }
      ]
    },
    {
      "cell_type": "markdown",
      "metadata": {
        "id": "JkRNpCVmrFnf"
      },
      "source": [
        "MLP architecture, via sequential API:"
      ]
    },
    {
      "cell_type": "code",
      "source": [
        "n_hidden_1 = 256 # 1st layer number of neurons\n",
        "n_hidden_2 = 256 # 2nd layer number of neurons\n",
        "n_hidden_3 = 128 # 3rd layer number of neurons\n",
        "\n",
        "n_input = trainset[0][0].shape[0] # input shape (a vectorized 28*28 image)\n",
        "n_output = 10 # MNIST total classes (0-9 digits)"
      ],
      "metadata": {
        "id": "Vi3-WzWsrFnf"
      },
      "execution_count": null,
      "outputs": []
    },
    {
      "cell_type": "code",
      "source": [
        "model_multi_layer_bn = nn.Sequential(\n",
        "    nn.Linear(n_input, n_hidden_1), nn.BatchNorm1d(n_hidden_1), nn.ReLU(),\n",
        "    nn.Linear(n_hidden_1, n_hidden_2), nn.BatchNorm1d(n_hidden_2), nn.ReLU(),\n",
        "    nn.Linear(n_hidden_2, n_hidden_3), nn.BatchNorm1d(n_hidden_3), nn.ReLU(),\n",
        "    nn.Linear(n_hidden_3, n_output), nn.Softmax(dim=1))"
      ],
      "metadata": {
        "id": "ohoqZKX1rFng"
      },
      "execution_count": null,
      "outputs": []
    },
    {
      "cell_type": "code",
      "source": [
        "model_multi_layer_bn = model_multi_layer_bn.to(device)"
      ],
      "metadata": {
        "id": "poqHKEB-rFng"
      },
      "execution_count": null,
      "outputs": []
    },
    {
      "cell_type": "markdown",
      "source": [
        "Let us move on to the training. You need to define the loss using the instructions above, and the optimizer as usual. For the loss, use the argument `reduction='sum'` as before for compatibility with my code."
      ],
      "metadata": {
        "id": "JjnxjSqYrFng"
      }
    },
    {
      "cell_type": "code",
      "source": [
        "learning_rate = 0.01\n",
        "n_epochs = 20\n",
        "batch_size = 64"
      ],
      "metadata": {
        "id": "7MeYDtosrFnh"
      },
      "execution_count": null,
      "outputs": []
    },
    {
      "cell_type": "code",
      "source": [
        "criterion = nn.CrossEntropyLoss(reduction='sum')\n",
        "\n",
        "# Do not forget to change the name of the model if you copy paste code!!!\n",
        "optimizer = optim.Adam(model_multi_layer_bn.parameters(), lr=learning_rate)"
      ],
      "metadata": {
        "id": "Frx8_TXFrFni"
      },
      "execution_count": null,
      "outputs": []
    },
    {
      "cell_type": "code",
      "source": [
        "training_loader = DataLoader(trainset, batch_size=batch_size, shuffle=True, drop_last=False)\n",
        "test_loader = DataLoader(testset, batch_size=batch_size, shuffle=False, drop_last=False)"
      ],
      "metadata": {
        "id": "IOmcF3GArFni"
      },
      "execution_count": null,
      "outputs": []
    },
    {
      "cell_type": "markdown",
      "source": [
        "Now comes the main loop for the training and testing:"
      ],
      "metadata": {
        "id": "IvFmafPirFnj"
      }
    },
    {
      "cell_type": "code",
      "source": [
        "# Helper function: we monitor the accuracy during the training\n",
        "def vector_to_class(x):\n",
        "  y = torch.argmax(F.softmax(x,dim=1),axis=1)\n",
        "  return y\n",
        "\n",
        "def prediction_accuracy(predict,labels):\n",
        "  accuracy = (predict == labels).sum()/(labels.shape[0])\n",
        "  return accuracy"
      ],
      "metadata": {
        "id": "QDA56ZVlrFnj"
      },
      "execution_count": null,
      "outputs": []
    },
    {
      "cell_type": "code",
      "source": [
        "# !!! Do not forget to change the name of the model if you copy-paste code !!!\n",
        "\n",
        "# TRAINING TO COMPLETE BY STUDENTS\n",
        "\n",
        "model_multi_layer_bn.train()\n",
        "\n",
        "for epoch in range(0,n_epochs):\n",
        "  train_loss=0.0\n",
        "  all_labels = []\n",
        "  all_predicted = []\n",
        "\n",
        "  with tqdm(training_loader, unit=\"batch\") as tepoch:\n",
        "    for data, labels in tepoch:\n",
        "      tepoch.set_description(f\"Epoch {epoch}\")\n",
        "\n",
        "      # Put the data on device\n",
        "      data = data.to(device)\n",
        "      labels = labels.to(device)\n",
        "\n",
        "      # BEGIN STUDENT CODE: forward and backward passes\n",
        "\n",
        "      # 1. Do the forward pass\n",
        "      y_predict = model_multi_layer_bn(data)\n",
        "\n",
        "      # 2. Compute the loss\n",
        "      loss = criterion(y_predict, labels)\n",
        "\n",
        "      # 3. Reset gradients to 0\n",
        "      optimizer.zero_grad()\n",
        "\n",
        "      # 4. Do the backward pass\n",
        "      loss.backward()\n",
        "\n",
        "      # 5. Call the parameter update\n",
        "      optimizer.step()\n",
        "\n",
        "      # END STUDENT CODE\n",
        "\n",
        "      # Compute the loss\n",
        "      train_loss += loss.item()\n",
        "      # Store labels and class predictions\n",
        "      all_labels.extend(labels.tolist())\n",
        "      all_predicted.extend(vector_to_class(y_predict).tolist())\n",
        "\n",
        "  print('Epoch {}: Train Loss: {:.4f}'.format(epoch, train_loss/len(training_loader.dataset)))\n",
        "  print('Epoch {}: Train Accuracy: {:.4f}'.format(epoch, prediction_accuracy(np.array(all_predicted),np.array(all_labels))))"
      ],
      "metadata": {
        "id": "eeidilXqrFnj",
        "colab": {
          "base_uri": "https://localhost:8080/"
        },
        "outputId": "6676c8d5-cf0f-4d97-c60f-ebf5d92c52f4"
      },
      "execution_count": null,
      "outputs": [
        {
          "output_type": "stream",
          "name": "stderr",
          "text": [
            "100%|██████████| 157/157 [00:03<00:00, 46.40batch/s]"
          ]
        },
        {
          "output_type": "stream",
          "name": "stdout",
          "text": [
            "\n",
            "Test Accuracy: 0.0857\n"
          ]
        },
        {
          "output_type": "stream",
          "name": "stderr",
          "text": [
            "\n"
          ]
        }
      ]
    },
    {
      "cell_type": "markdown",
      "source": [
        "Testing:"
      ],
      "metadata": {
        "id": "jN5HLVafrFnk"
      }
    },
    {
      "cell_type": "code",
      "source": [
        "# !!! Do not forget to change the name of the model if you copy-paste code !!!\n",
        "\n",
        "# TESTING TO COMPLETE BY STUDENTS\n",
        "\n",
        "model_multi_layer_bn.eval()\n",
        "\n",
        "all_predicted = []\n",
        "all_labels = []\n",
        "\n",
        "with tqdm(test_loader, unit=\"batch\") as tepoch:\n",
        "  for data, labels in tepoch:\n",
        "    all_labels.extend(labels.tolist())\n",
        "\n",
        "    data = data.to(device)\n",
        "    y_predict = model_multi_layer_bn(data)\n",
        "    all_predicted.extend(vector_to_class(y_predict).tolist())\n",
        "\n",
        "test_accuracy = prediction_accuracy(np.array(all_predicted),np.array(all_labels))\n",
        "\n",
        "print(\"\\nTest Accuracy:\", test_accuracy)"
      ],
      "metadata": {
        "colab": {
          "base_uri": "https://localhost:8080/"
        },
        "outputId": "d3177fc0-5d70-460a-c5db-b7752e7b875e",
        "id": "gosmh48brFnl"
      },
      "execution_count": null,
      "outputs": [
        {
          "output_type": "stream",
          "name": "stderr",
          "text": [
            "100%|██████████| 157/157 [00:02<00:00, 54.91batch/s]"
          ]
        },
        {
          "output_type": "stream",
          "name": "stdout",
          "text": [
            "\n",
            "Test Accuracy: 0.0857\n"
          ]
        },
        {
          "output_type": "stream",
          "name": "stderr",
          "text": [
            "\n"
          ]
        }
      ]
    },
    {
      "cell_type": "markdown",
      "source": [
        "Batch normalization makes it easier to converge to a good local minimum by reducing internal covariate shift during training, and by normalizing intermediate inputs."
      ],
      "metadata": {
        "id": "ZaC_i_mas6ry"
      }
    },
    {
      "cell_type": "markdown",
      "metadata": {
        "id": "2CvUkS8Oy6-o"
      },
      "source": [
        "# Dropout\n",
        "\n",
        "Even if this is not very significant at all on this example, you may see that there is a difference between the training accuracy and the testing accuracy. This is the problem of overfitting. To alleviate this problem, we can turn to _dropout_:\n",
        "\n",
        "```nn.Dropout(rate,...)```\n",
        "\n",
        "where rate is the probability that an input neuron to a layer will get set to 0. You can do this after any layer, for instance after the BN layers. Adapt the previous architecture and try out the droupout. Set the dropout rate to 0.1 as a first test.\n"
      ]
    },
    {
      "cell_type": "code",
      "source": [
        "device = torch.device(\"cuda:0\" if torch.cuda.is_available() else \"cpu\")\n",
        "print(device)"
      ],
      "metadata": {
        "colab": {
          "base_uri": "https://localhost:8080/"
        },
        "outputId": "4ef15849-d3e6-47b0-cd29-94adccb0f44c",
        "id": "sAvs1X7Yvx3z"
      },
      "execution_count": null,
      "outputs": [
        {
          "output_type": "stream",
          "name": "stdout",
          "text": [
            "cpu\n"
          ]
        }
      ]
    },
    {
      "cell_type": "markdown",
      "metadata": {
        "id": "HFwH_84Nvx30"
      },
      "source": [
        "MLP architecture, via sequential API:"
      ]
    },
    {
      "cell_type": "code",
      "source": [
        "n_hidden_1 = 256 # 1st layer number of neurons\n",
        "n_hidden_2 = 256 # 2nd layer number of neurons\n",
        "n_hidden_3 = 128 # 3rd layer number of neurons\n",
        "\n",
        "n_input = trainset[0][0].shape[0] # input shape (a vectorized 28*28 image)\n",
        "n_output = 10 # MNIST total classes (0-9 digits)\n",
        "\n",
        "dropout_rate = 0.1"
      ],
      "metadata": {
        "id": "8XjSR7Hxvx30"
      },
      "execution_count": null,
      "outputs": []
    },
    {
      "cell_type": "code",
      "source": [
        "model_multi_layer_do = nn.Sequential(nn.Linear(n_input,n_hidden_1), nn.ReLU(), nn.BatchNorm1d(n_hidden_1), nn.Dropout(dropout_rate),\n",
        "  nn.Linear(n_hidden_1,n_hidden_2), nn.ReLU(), nn.BatchNorm1d(n_hidden_2), nn.Dropout(dropout_rate),\n",
        "  nn.Linear(n_hidden_2,n_hidden_3), nn.ReLU(), nn.BatchNorm1d(n_hidden_3), nn.Dropout(dropout_rate),\n",
        "  nn.Linear(n_hidden_3,n_output)\n",
        ")"
      ],
      "metadata": {
        "id": "PRXNPiIXvx30"
      },
      "execution_count": null,
      "outputs": []
    },
    {
      "cell_type": "code",
      "source": [
        "model_multi_layer_do = model_multi_layer_do.to(device)"
      ],
      "metadata": {
        "id": "5TtjVwtJvx31"
      },
      "execution_count": null,
      "outputs": []
    },
    {
      "cell_type": "markdown",
      "source": [
        "Let us move on to the training. Write everything by yourself by adjusting the code from above."
      ],
      "metadata": {
        "id": "aKmOSJYOvx31"
      }
    },
    {
      "cell_type": "code",
      "source": [
        "# STUDENTS: TO DO\n",
        "\n",
        "learning_rate = 0.01\n",
        "n_epochs = 20\n",
        "batch_size = 64\n",
        "criterion = nn.CrossEntropyLoss(reduction='sum')\n",
        "\n",
        "# Do not forget to change the name of the model if you copy paste code!!!\n",
        "optimizer = optim.Adam(model_multi_layer_do.parameters(), lr=learning_rate)\n",
        "training_loader = DataLoader(trainset, batch_size=batch_size, shuffle=True, drop_last=False)\n",
        "test_loader = DataLoader(testset, batch_size=batch_size, shuffle=False, drop_last=False)\n",
        "model_multi_layer_do.train()\n",
        "\n",
        "for epoch in range(0,n_epochs):\n",
        "  train_loss=0.0\n",
        "  all_labels = []\n",
        "  all_predicted = []\n",
        "\n",
        "  with tqdm(training_loader, unit=\"batch\") as tepoch:\n",
        "    for data, labels in tepoch:\n",
        "      tepoch.set_description(f\"Epoch {epoch}\")\n",
        "\n",
        "      # Put the data on device\n",
        "      data = data.to(device)\n",
        "      labels = labels.to(device)\n",
        "\n",
        "      # BEGIN STUDENT CODE: forward and backward passes\n",
        "\n",
        "      # 1. Do the forward pass\n",
        "      y_predict = model_multi_layer_do(data)\n",
        "\n",
        "      # 2. Compute the loss\n",
        "      loss = criterion(y_predict, labels)\n",
        "\n",
        "      # 3. Reset gradients to 0\n",
        "      optimizer.zero_grad()\n",
        "\n",
        "      # 4. Do the backward pass\n",
        "      loss.backward()\n",
        "\n",
        "      # 5. Call the parameter update\n",
        "      optimizer.step()\n",
        "\n",
        "      # END STUDENT CODE\n",
        "\n",
        "      # Compute the loss\n",
        "      train_loss += loss.item()\n",
        "      # Store labels and class predictions\n",
        "      all_labels.extend(labels.tolist())\n",
        "      all_predicted.extend(vector_to_class(y_predict).tolist())\n",
        "\n",
        "  print('Epoch {}: Train Loss: {:.4f}'.format(epoch, train_loss/len(training_loader.dataset)))\n",
        "  print('Epoch {}: Train Accuracy: {:.4f}'.format(epoch, prediction_accuracy(np.array(all_predicted),np.array(all_labels))))"
      ],
      "metadata": {
        "id": "ZIl6dhHFvx31",
        "colab": {
          "base_uri": "https://localhost:8080/"
        },
        "outputId": "d518a46d-54ad-4660-efde-4214118b6154"
      },
      "execution_count": null,
      "outputs": [
        {
          "output_type": "stream",
          "name": "stderr",
          "text": [
            "Epoch 0: 100%|██████████| 938/938 [00:29<00:00, 31.76batch/s]\n"
          ]
        },
        {
          "output_type": "stream",
          "name": "stdout",
          "text": [
            "Epoch 0: Train Loss: 0.2901\n",
            "Epoch 0: Train Accuracy: 0.9110\n"
          ]
        },
        {
          "output_type": "stream",
          "name": "stderr",
          "text": [
            "Epoch 1: 100%|██████████| 938/938 [00:29<00:00, 31.65batch/s]\n"
          ]
        },
        {
          "output_type": "stream",
          "name": "stdout",
          "text": [
            "Epoch 1: Train Loss: 0.1737\n",
            "Epoch 1: Train Accuracy: 0.9456\n"
          ]
        },
        {
          "output_type": "stream",
          "name": "stderr",
          "text": [
            "Epoch 2: 100%|██████████| 938/938 [00:31<00:00, 30.25batch/s]\n"
          ]
        },
        {
          "output_type": "stream",
          "name": "stdout",
          "text": [
            "Epoch 2: Train Loss: 0.1497\n",
            "Epoch 2: Train Accuracy: 0.9542\n"
          ]
        },
        {
          "output_type": "stream",
          "name": "stderr",
          "text": [
            "Epoch 3: 100%|██████████| 938/938 [00:33<00:00, 28.08batch/s]\n"
          ]
        },
        {
          "output_type": "stream",
          "name": "stdout",
          "text": [
            "Epoch 3: Train Loss: 0.1325\n",
            "Epoch 3: Train Accuracy: 0.9593\n"
          ]
        },
        {
          "output_type": "stream",
          "name": "stderr",
          "text": [
            "Epoch 4: 100%|██████████| 938/938 [00:29<00:00, 31.52batch/s]\n"
          ]
        },
        {
          "output_type": "stream",
          "name": "stdout",
          "text": [
            "Epoch 4: Train Loss: 0.1220\n",
            "Epoch 4: Train Accuracy: 0.9621\n"
          ]
        },
        {
          "output_type": "stream",
          "name": "stderr",
          "text": [
            "Epoch 5: 100%|██████████| 938/938 [00:35<00:00, 26.70batch/s]\n"
          ]
        },
        {
          "output_type": "stream",
          "name": "stdout",
          "text": [
            "Epoch 5: Train Loss: 0.1163\n",
            "Epoch 5: Train Accuracy: 0.9635\n"
          ]
        },
        {
          "output_type": "stream",
          "name": "stderr",
          "text": [
            "Epoch 6: 100%|██████████| 938/938 [00:33<00:00, 28.32batch/s]\n"
          ]
        },
        {
          "output_type": "stream",
          "name": "stdout",
          "text": [
            "Epoch 6: Train Loss: 0.1096\n",
            "Epoch 6: Train Accuracy: 0.9651\n"
          ]
        },
        {
          "output_type": "stream",
          "name": "stderr",
          "text": [
            "Epoch 7: 100%|██████████| 938/938 [00:30<00:00, 30.74batch/s]\n"
          ]
        },
        {
          "output_type": "stream",
          "name": "stdout",
          "text": [
            "Epoch 7: Train Loss: 0.1044\n",
            "Epoch 7: Train Accuracy: 0.9666\n"
          ]
        },
        {
          "output_type": "stream",
          "name": "stderr",
          "text": [
            "Epoch 8: 100%|██████████| 938/938 [00:30<00:00, 30.41batch/s]\n"
          ]
        },
        {
          "output_type": "stream",
          "name": "stdout",
          "text": [
            "Epoch 8: Train Loss: 0.0951\n",
            "Epoch 8: Train Accuracy: 0.9700\n"
          ]
        },
        {
          "output_type": "stream",
          "name": "stderr",
          "text": [
            "Epoch 9: 100%|██████████| 938/938 [00:31<00:00, 29.73batch/s]\n"
          ]
        },
        {
          "output_type": "stream",
          "name": "stdout",
          "text": [
            "Epoch 9: Train Loss: 0.0906\n",
            "Epoch 9: Train Accuracy: 0.9710\n"
          ]
        },
        {
          "output_type": "stream",
          "name": "stderr",
          "text": [
            "Epoch 10: 100%|██████████| 938/938 [00:30<00:00, 31.07batch/s]\n"
          ]
        },
        {
          "output_type": "stream",
          "name": "stdout",
          "text": [
            "Epoch 10: Train Loss: 0.0902\n",
            "Epoch 10: Train Accuracy: 0.9706\n"
          ]
        },
        {
          "output_type": "stream",
          "name": "stderr",
          "text": [
            "Epoch 11: 100%|██████████| 938/938 [00:30<00:00, 30.88batch/s]\n"
          ]
        },
        {
          "output_type": "stream",
          "name": "stdout",
          "text": [
            "Epoch 11: Train Loss: 0.0853\n",
            "Epoch 11: Train Accuracy: 0.9731\n"
          ]
        },
        {
          "output_type": "stream",
          "name": "stderr",
          "text": [
            "Epoch 12: 100%|██████████| 938/938 [00:30<00:00, 30.72batch/s]\n"
          ]
        },
        {
          "output_type": "stream",
          "name": "stdout",
          "text": [
            "Epoch 12: Train Loss: 0.0813\n",
            "Epoch 12: Train Accuracy: 0.9739\n"
          ]
        },
        {
          "output_type": "stream",
          "name": "stderr",
          "text": [
            "Epoch 13: 100%|██████████| 938/938 [00:30<00:00, 31.11batch/s]\n"
          ]
        },
        {
          "output_type": "stream",
          "name": "stdout",
          "text": [
            "Epoch 13: Train Loss: 0.0797\n",
            "Epoch 13: Train Accuracy: 0.9745\n"
          ]
        },
        {
          "output_type": "stream",
          "name": "stderr",
          "text": [
            "Epoch 14: 100%|██████████| 938/938 [00:29<00:00, 31.48batch/s]\n"
          ]
        },
        {
          "output_type": "stream",
          "name": "stdout",
          "text": [
            "Epoch 14: Train Loss: 0.0784\n",
            "Epoch 14: Train Accuracy: 0.9746\n"
          ]
        },
        {
          "output_type": "stream",
          "name": "stderr",
          "text": [
            "Epoch 15: 100%|██████████| 938/938 [00:31<00:00, 30.01batch/s]\n"
          ]
        },
        {
          "output_type": "stream",
          "name": "stdout",
          "text": [
            "Epoch 15: Train Loss: 0.0777\n",
            "Epoch 15: Train Accuracy: 0.9749\n"
          ]
        },
        {
          "output_type": "stream",
          "name": "stderr",
          "text": [
            "Epoch 16: 100%|██████████| 938/938 [00:30<00:00, 31.21batch/s]\n"
          ]
        },
        {
          "output_type": "stream",
          "name": "stdout",
          "text": [
            "Epoch 16: Train Loss: 0.0707\n",
            "Epoch 16: Train Accuracy: 0.9768\n"
          ]
        },
        {
          "output_type": "stream",
          "name": "stderr",
          "text": [
            "Epoch 17: 100%|██████████| 938/938 [00:30<00:00, 30.75batch/s]\n"
          ]
        },
        {
          "output_type": "stream",
          "name": "stdout",
          "text": [
            "Epoch 17: Train Loss: 0.0708\n",
            "Epoch 17: Train Accuracy: 0.9765\n"
          ]
        },
        {
          "output_type": "stream",
          "name": "stderr",
          "text": [
            "Epoch 18: 100%|██████████| 938/938 [00:31<00:00, 30.14batch/s]\n"
          ]
        },
        {
          "output_type": "stream",
          "name": "stdout",
          "text": [
            "Epoch 18: Train Loss: 0.0694\n",
            "Epoch 18: Train Accuracy: 0.9774\n"
          ]
        },
        {
          "output_type": "stream",
          "name": "stderr",
          "text": [
            "Epoch 19: 100%|██████████| 938/938 [00:31<00:00, 30.19batch/s]\n"
          ]
        },
        {
          "output_type": "stream",
          "name": "stdout",
          "text": [
            "Epoch 19: Train Loss: 0.0653\n",
            "Epoch 19: Train Accuracy: 0.9786\n"
          ]
        }
      ]
    },
    {
      "cell_type": "markdown",
      "source": [
        "Testing, to be completed:"
      ],
      "metadata": {
        "id": "TG52SS5Evx33"
      }
    },
    {
      "cell_type": "code",
      "source": [
        "# !!! Do not forget to change the name of the model if you copy-paste code !!!\n",
        "\n",
        "model_multi_layer_do.eval()\n",
        "\n",
        "all_predicted = []\n",
        "all_labels = []\n",
        "\n",
        "with tqdm(test_loader, unit=\"batch\") as tepoch:\n",
        "  for data, labels in tepoch:\n",
        "    all_labels.extend(labels.tolist())\n",
        "\n",
        "    data = data.to(device)\n",
        "    y_predict = model_multi_layer_do(data)\n",
        "    all_predicted.extend(vector_to_class(y_predict).tolist())\n",
        "\n",
        "test_accuracy = prediction_accuracy(np.array(all_predicted),np.array(all_labels))\n",
        "\n",
        "print(\"\\nTest Accuracy:\", test_accuracy)"
      ],
      "metadata": {
        "id": "sQXjjpFjvx33",
        "colab": {
          "base_uri": "https://localhost:8080/"
        },
        "outputId": "be9b125e-4514-44f9-a520-3cc56f92fdcd"
      },
      "execution_count": null,
      "outputs": [
        {
          "output_type": "stream",
          "name": "stderr",
          "text": [
            "100%|██████████| 157/157 [00:03<00:00, 40.72batch/s]"
          ]
        },
        {
          "output_type": "stream",
          "name": "stdout",
          "text": [
            "\n",
            "Test Accuracy: 0.9794\n"
          ]
        },
        {
          "output_type": "stream",
          "name": "stderr",
          "text": [
            "\n"
          ]
        }
      ]
    },
    {
      "cell_type": "markdown",
      "source": [
        "On my runs, the gap between training and test accuracy was completely closed after adding dropout, probably thanks to the reduced co-adaptation of neurons. The test accuracy with dropout is slightly better.<br>\n",
        "\n",
        "It remains that using a fully-connected architecture on an image dataset is probably not the best choice (as it encodes no inductive bias about images). We will experiment with CNNs in the next lab!"
      ],
      "metadata": {
        "id": "XX08cV_wvx33"
      }
    },
    {
      "cell_type": "markdown",
      "metadata": {
        "id": "Y2CWgKZeRHA2"
      },
      "source": [
        "#### Documentation:\n",
        "\n",
        "  - https://pytorch.org/\n",
        "  - http://www.deeplearningbook.org/"
      ]
    }
  ],
  "metadata": {
    "colab": {
      "provenance": []
    },
    "kernelspec": {
      "display_name": "Python 3",
      "name": "python3"
    },
    "language_info": {
      "codemirror_mode": {
        "name": "ipython",
        "version": 3
      },
      "file_extension": ".py",
      "mimetype": "text/x-python",
      "name": "python",
      "nbconvert_exporter": "python",
      "pygments_lexer": "ipython3",
      "version": "3.9.12"
    }
  },
  "nbformat": 4,
  "nbformat_minor": 0
}